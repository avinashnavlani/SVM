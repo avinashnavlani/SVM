{
 "cells": [
  {
   "cell_type": "markdown",
   "metadata": {},
   "source": [
    "# Support Vector Machine Classification in Scikit-learn"
   ]
  },
  {
   "cell_type": "markdown",
   "metadata": {
    "collapsed": true
   },
   "source": [
    "In model building part, you can use cancer dataset which is a very famous multi-class classification problem. This dataset is computed from a digitized image of a fine needle aspirate (FNA) of a breast mass. They describe characteristics of the cell nuclei present in the image.\n",
    "\n",
    "Dataset comprises 30 features (mean radius,mean texture,mean perimeter,mean area,mean smoothness,mean compactness,mean concavity,mean concave points,mean symmetry,mean fractal dimension,radius error,texture error,perimeter error,area error,smoothness error,compactness error,concavity error,concave points error,symmetry error,fractal dimension error,worst radius,worst texture,worst perimeter,worst area,worst smoothness,worst compactness,worst concavity,worst concave points,worst symmetry, and worst fractal dimension) and a target(type of cancer). \n",
    "\n",
    "This data has two type of cancer classes malignant and benign. Here you can build a model to classify the type of cancer. The dataset is available in the scikit-learn library or you can also download it from UCI Library. "
   ]
  },
  {
   "cell_type": "markdown",
   "metadata": {},
   "source": [
    "#### Loading Data"
   ]
  },
  {
   "cell_type": "code",
   "execution_count": 4,
   "metadata": {
    "collapsed": true
   },
   "outputs": [],
   "source": [
    "#Import scikit-learn dataset library\n",
    "from sklearn import datasets\n",
    "\n",
    "#Load dataset\n",
    "cancer = datasets.load_breast_cancer()"
   ]
  },
  {
   "cell_type": "markdown",
   "metadata": {},
   "source": [
    "#### Exploring Data"
   ]
  },
  {
   "cell_type": "code",
   "execution_count": 5,
   "metadata": {},
   "outputs": [
    {
     "name": "stdout",
     "output_type": "stream",
     "text": [
      "Features:  ['mean radius' 'mean texture' 'mean perimeter' 'mean area'\n",
      " 'mean smoothness' 'mean compactness' 'mean concavity'\n",
      " 'mean concave points' 'mean symmetry' 'mean fractal dimension'\n",
      " 'radius error' 'texture error' 'perimeter error' 'area error'\n",
      " 'smoothness error' 'compactness error' 'concavity error'\n",
      " 'concave points error' 'symmetry error' 'fractal dimension error'\n",
      " 'worst radius' 'worst texture' 'worst perimeter' 'worst area'\n",
      " 'worst smoothness' 'worst compactness' 'worst concavity'\n",
      " 'worst concave points' 'worst symmetry' 'worst fractal dimension']\n",
      "Labels:  ['malignant' 'benign']\n"
     ]
    }
   ],
   "source": [
    "# print the names of the 13 features\n",
    "print \"Features: \", cancer.feature_names\n",
    "\n",
    "# print the label type of cancer('malignant' 'benign')\n",
    "print \"Labels: \", cancer.target_names"
   ]
  },
  {
   "cell_type": "code",
   "execution_count": 30,
   "metadata": {},
   "outputs": [
    {
     "data": {
      "text/plain": [
       "'malignant,benign'"
      ]
     },
     "execution_count": 30,
     "metadata": {},
     "output_type": "execute_result"
    }
   ],
   "source": [
    "','.join(cancer.target_names)"
   ]
  },
  {
   "cell_type": "code",
   "execution_count": 6,
   "metadata": {},
   "outputs": [
    {
     "data": {
      "text/plain": [
       "(569L, 30L)"
      ]
     },
     "execution_count": 6,
     "metadata": {},
     "output_type": "execute_result"
    }
   ],
   "source": [
    "# print data(feature)shape\n",
    "cancer.data.shape"
   ]
  },
  {
   "cell_type": "code",
   "execution_count": 7,
   "metadata": {},
   "outputs": [
    {
     "name": "stdout",
     "output_type": "stream",
     "text": [
      "[[  1.79900000e+01   1.03800000e+01   1.22800000e+02   1.00100000e+03\n",
      "    1.18400000e-01   2.77600000e-01   3.00100000e-01   1.47100000e-01\n",
      "    2.41900000e-01   7.87100000e-02   1.09500000e+00   9.05300000e-01\n",
      "    8.58900000e+00   1.53400000e+02   6.39900000e-03   4.90400000e-02\n",
      "    5.37300000e-02   1.58700000e-02   3.00300000e-02   6.19300000e-03\n",
      "    2.53800000e+01   1.73300000e+01   1.84600000e+02   2.01900000e+03\n",
      "    1.62200000e-01   6.65600000e-01   7.11900000e-01   2.65400000e-01\n",
      "    4.60100000e-01   1.18900000e-01]\n",
      " [  2.05700000e+01   1.77700000e+01   1.32900000e+02   1.32600000e+03\n",
      "    8.47400000e-02   7.86400000e-02   8.69000000e-02   7.01700000e-02\n",
      "    1.81200000e-01   5.66700000e-02   5.43500000e-01   7.33900000e-01\n",
      "    3.39800000e+00   7.40800000e+01   5.22500000e-03   1.30800000e-02\n",
      "    1.86000000e-02   1.34000000e-02   1.38900000e-02   3.53200000e-03\n",
      "    2.49900000e+01   2.34100000e+01   1.58800000e+02   1.95600000e+03\n",
      "    1.23800000e-01   1.86600000e-01   2.41600000e-01   1.86000000e-01\n",
      "    2.75000000e-01   8.90200000e-02]\n",
      " [  1.96900000e+01   2.12500000e+01   1.30000000e+02   1.20300000e+03\n",
      "    1.09600000e-01   1.59900000e-01   1.97400000e-01   1.27900000e-01\n",
      "    2.06900000e-01   5.99900000e-02   7.45600000e-01   7.86900000e-01\n",
      "    4.58500000e+00   9.40300000e+01   6.15000000e-03   4.00600000e-02\n",
      "    3.83200000e-02   2.05800000e-02   2.25000000e-02   4.57100000e-03\n",
      "    2.35700000e+01   2.55300000e+01   1.52500000e+02   1.70900000e+03\n",
      "    1.44400000e-01   4.24500000e-01   4.50400000e-01   2.43000000e-01\n",
      "    3.61300000e-01   8.75800000e-02]\n",
      " [  1.14200000e+01   2.03800000e+01   7.75800000e+01   3.86100000e+02\n",
      "    1.42500000e-01   2.83900000e-01   2.41400000e-01   1.05200000e-01\n",
      "    2.59700000e-01   9.74400000e-02   4.95600000e-01   1.15600000e+00\n",
      "    3.44500000e+00   2.72300000e+01   9.11000000e-03   7.45800000e-02\n",
      "    5.66100000e-02   1.86700000e-02   5.96300000e-02   9.20800000e-03\n",
      "    1.49100000e+01   2.65000000e+01   9.88700000e+01   5.67700000e+02\n",
      "    2.09800000e-01   8.66300000e-01   6.86900000e-01   2.57500000e-01\n",
      "    6.63800000e-01   1.73000000e-01]\n",
      " [  2.02900000e+01   1.43400000e+01   1.35100000e+02   1.29700000e+03\n",
      "    1.00300000e-01   1.32800000e-01   1.98000000e-01   1.04300000e-01\n",
      "    1.80900000e-01   5.88300000e-02   7.57200000e-01   7.81300000e-01\n",
      "    5.43800000e+00   9.44400000e+01   1.14900000e-02   2.46100000e-02\n",
      "    5.68800000e-02   1.88500000e-02   1.75600000e-02   5.11500000e-03\n",
      "    2.25400000e+01   1.66700000e+01   1.52200000e+02   1.57500000e+03\n",
      "    1.37400000e-01   2.05000000e-01   4.00000000e-01   1.62500000e-01\n",
      "    2.36400000e-01   7.67800000e-02]]\n"
     ]
    }
   ],
   "source": [
    "# print the cancer data features (top 5 records)\n",
    "print cancer.data[0:5]"
   ]
  },
  {
   "cell_type": "code",
   "execution_count": 8,
   "metadata": {},
   "outputs": [
    {
     "name": "stdout",
     "output_type": "stream",
     "text": [
      "[0 0 0 0 0 0 0 0 0 0 0 0 0 0 0 0 0 0 0 1 1 1 0 0 0 0 0 0 0 0 0 0 0 0 0 0 0\n",
      " 1 0 0 0 0 0 0 0 0 1 0 1 1 1 1 1 0 0 1 0 0 1 1 1 1 0 1 0 0 1 1 1 1 0 1 0 0\n",
      " 1 0 1 0 0 1 1 1 0 0 1 0 0 0 1 1 1 0 1 1 0 0 1 1 1 0 0 1 1 1 1 0 1 1 0 1 1\n",
      " 1 1 1 1 1 1 0 0 0 1 0 0 1 1 1 0 0 1 0 1 0 0 1 0 0 1 1 0 1 1 0 1 1 1 1 0 1\n",
      " 1 1 1 1 1 1 1 1 0 1 1 1 1 0 0 1 0 1 1 0 0 1 1 0 0 1 1 1 1 0 1 1 0 0 0 1 0\n",
      " 1 0 1 1 1 0 1 1 0 0 1 0 0 0 0 1 0 0 0 1 0 1 0 1 1 0 1 0 0 0 0 1 1 0 0 1 1\n",
      " 1 0 1 1 1 1 1 0 0 1 1 0 1 1 0 0 1 0 1 1 1 1 0 1 1 1 1 1 0 1 0 0 0 0 0 0 0\n",
      " 0 0 0 0 0 0 0 1 1 1 1 1 1 0 1 0 1 1 0 1 1 0 1 0 0 1 1 1 1 1 1 1 1 1 1 1 1\n",
      " 1 0 1 1 0 1 0 1 1 1 1 1 1 1 1 1 1 1 1 1 1 0 1 1 1 0 1 0 1 1 1 1 0 0 0 1 1\n",
      " 1 1 0 1 0 1 0 1 1 1 0 1 1 1 1 1 1 1 0 0 0 1 1 1 1 1 1 1 1 1 1 1 0 0 1 0 0\n",
      " 0 1 0 0 1 1 1 1 1 0 1 1 1 1 1 0 1 1 1 0 1 1 0 0 1 1 1 1 1 1 0 1 1 1 1 1 1\n",
      " 1 0 1 1 1 1 1 0 1 1 0 1 1 1 1 1 1 1 1 1 1 1 1 0 1 0 0 1 0 1 1 1 1 1 0 1 1\n",
      " 0 1 0 1 1 0 1 0 1 1 1 1 1 1 1 1 0 0 1 1 1 1 1 1 0 1 1 1 1 1 1 1 1 1 1 0 1\n",
      " 1 1 1 1 1 1 0 1 0 1 1 0 1 1 1 1 1 0 0 1 0 1 0 1 1 1 1 1 0 1 1 0 1 0 1 0 0\n",
      " 1 1 1 0 1 1 1 1 1 1 1 1 1 1 1 0 1 0 0 1 1 1 1 1 1 1 1 1 1 1 1 1 1 1 1 1 1\n",
      " 1 1 1 1 1 1 1 0 0 0 0 0 0 1]\n"
     ]
    }
   ],
   "source": [
    "# print the cancer labels (0:malignant, 1:benign)\n",
    "print cancer.target"
   ]
  },
  {
   "cell_type": "markdown",
   "metadata": {},
   "source": [
    "#### Splitting Data"
   ]
  },
  {
   "cell_type": "code",
   "execution_count": 25,
   "metadata": {},
   "outputs": [],
   "source": [
    "# Import train_test_split function\n",
    "from sklearn.cross_validation import train_test_split\n",
    "\n",
    "# Split dataset into training set and test set\n",
    "X_train, X_test, y_train, y_test = train_test_split(cancer.data, cancer.target, test_size=0.3,random_state=109) # 70% training and 30% test"
   ]
  },
  {
   "cell_type": "markdown",
   "metadata": {},
   "source": [
    "#### Generating Model"
   ]
  },
  {
   "cell_type": "code",
   "execution_count": 26,
   "metadata": {},
   "outputs": [],
   "source": [
    "#Import svm model\n",
    "from sklearn import svm\n",
    "  \n",
    "#Create a svm Classifier\n",
    "clf = svm.SVC(kernel='linear') # Linear Kernel\n",
    "\n",
    "#Train the model using the training sets \n",
    "clf.fit(X_train, y_train)\n",
    "\n",
    "#Predict the response for test dataset\n",
    "y_pred = clf.predict(X_test)"
   ]
  },
  {
   "cell_type": "markdown",
   "metadata": {},
   "source": [
    "#### Evaluating Model"
   ]
  },
  {
   "cell_type": "code",
   "execution_count": 27,
   "metadata": {},
   "outputs": [
    {
     "name": "stdout",
     "output_type": "stream",
     "text": [
      "('Accuracy:', 0.96491228070175439)\n"
     ]
    }
   ],
   "source": [
    "#Import scikit-learn metrics module for accuracy calculation\n",
    "from sklearn import metrics\n",
    "\n",
    "# Model Accuracy, how often is the classifier correct?\n",
    "print(\"Accuracy:\",metrics.accuracy_score(y_test, y_pred))"
   ]
  },
  {
   "cell_type": "markdown",
   "metadata": {},
   "source": [
    "## Tuning Hyperparameters"
   ]
  },
  {
   "cell_type": "markdown",
   "metadata": {},
   "source": [
    "* Kernel: The main function of the kernel is to transform given dataset input data into the required form. There are various types of functions such as linear, polynomial, and radial basis function (RBF). Polynomial and RBF are useful for non-linear hyperplane. Polynomial and RBF kernels compute separation line in the higher dimension. In some of the applications, it is suggested to use more complex kernels to separate the classes that are curved or nonlinear. This transformation turn can lead to more accurate classifiers.\n",
    "\n",
    "\n",
    "* Regularization: Regularization parameter in python's Scikit-learn C parameter used to maintain regularization. Here C is the penalty parameter which represents misclassification or error term. Misclassification or error term tells the SVM optimization how much error is bearable. This is how you can control the trade-off between decision boundary and misclassification term. The smaller value of C causes small-margin hyperplane and large value of C causes larger-margin hyperplane.\n",
    "\n",
    "\n",
    "* Gamma: the Lower value of Gamma loosely fit the training dataset whereas the higher value of gamma will exactly fit the training dataset, which causes over-fitting. In other words, you can say the low value of gamma considers only nearby points in calculation separation line Whereas the high value of gamma consider all the points in the calculation of separation line.\n"
   ]
  },
  {
   "cell_type": "code",
   "execution_count": null,
   "metadata": {
    "collapsed": true
   },
   "outputs": [],
   "source": []
  }
 ],
 "metadata": {
  "kernelspec": {
   "display_name": "Python 2",
   "language": "python",
   "name": "python2"
  },
  "language_info": {
   "codemirror_mode": {
    "name": "ipython",
    "version": 2
   },
   "file_extension": ".py",
   "mimetype": "text/x-python",
   "name": "python",
   "nbconvert_exporter": "python",
   "pygments_lexer": "ipython2",
   "version": "2.7.15"
  }
 },
 "nbformat": 4,
 "nbformat_minor": 2
}
